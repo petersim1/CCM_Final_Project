{
 "cells": [
  {
   "cell_type": "code",
   "execution_count": 252,
   "metadata": {},
   "outputs": [],
   "source": [
    "# Import libraries\n",
    "from __future__ import print_function\n",
    "import matplotlib\n",
    "%matplotlib inline\n",
    "import matplotlib.pyplot as plt\n",
    "import numpy as np\n",
    "import torch\n",
    "import torch.nn as nn\n",
    "from torch.nn.functional import sigmoid, relu\n",
    "from scipy.cluster.hierarchy import dendrogram, linkage\n",
    "\n",
    "np.random.seed(2020)\n"
   ]
  },
  {
   "cell_type": "code",
   "execution_count": 253,
   "metadata": {},
   "outputs": [],
   "source": [
    "# Read in Data\n",
    "with open('data/sem_items_new.txt','r') as fid:\n",
    "    names_items = np.array([l.strip() for l in fid.readlines()])\n",
    "with open('data/sem_relations_new.txt','r') as fid:\n",
    "    names_relations = np.array([l.strip() for l in fid.readlines()])\n",
    "with open('data/sem_attributes_new.txt','r') as fid:\n",
    "    names_attributes = np.array([l.strip() for l in fid.readlines()])"
   ]
  },
  {
   "cell_type": "code",
   "execution_count": 254,
   "metadata": {},
   "outputs": [
    {
     "name": "stdout",
     "output_type": "stream",
     "text": [
      "List of items:\n",
      "Pine,Oak,Rose,Daisy,Robin,Canary,Sunfish,Salmon,Turtle,Crocodile\n",
      "\n",
      "List of relations:\n",
      "ISA,Is,Can,Has\n",
      "\n",
      "List of attributes:\n",
      "Living thing,Plant,Animal,Tree,Flower,Bird,Fish,Reptile,Pine,Oak,Rose,Daisy,Robin,Canary,Sunfish,Salmon,Turtle,Crocodile,Pretty,Big,Living,Green,Red,Yellow,Slow,Grow,Move,Swim,Fly,Sing,Skin,Roots,Leaves,Bark,Branch,Petals,Wings,Feathers,Gills,Scales,Backbone,Produce Eggs,Shell\n"
     ]
    }
   ],
   "source": [
    "nobj = len(names_items)\n",
    "nrel = len(names_relations)\n",
    "nattributes = len(names_attributes)\n",
    "print('List of items:')\n",
    "print(*names_items,sep=',')\n",
    "print(\"\\nList of relations:\")\n",
    "print(*names_relations,sep=',')\n",
    "print(\"\\nList of attributes:\")\n",
    "print(*names_attributes,sep=',')"
   ]
  },
  {
   "cell_type": "code",
   "execution_count": 255,
   "metadata": {},
   "outputs": [
    {
     "name": "stdout",
     "output_type": "stream",
     "text": [
      "Example input pattern:\n",
      "[0 0 0 0 0 0 0 0 1 0 0 0 0 1]\n",
      "Example output pattern:\n",
      "[0 0 0 0 0 0 0 0 0 0 0 0 0 0 0 0 0 0 0 0 0 0 0 0 0 0 0 0 0 0 1 0 0 0 0 0 0\n",
      " 0 0 0 1 0 1]\n",
      "\n",
      "Which encodes...\n",
      "Item ['Turtle']\n",
      "Relation ['Has']\n",
      "Attributes ['Skin' 'Backbone' 'Shell']\n"
     ]
    }
   ],
   "source": [
    "item_display_ind = 35 # can change, just represents index of input data to show as example.\n",
    "\n",
    "D = np.loadtxt('data/sem_data_new.txt')\n",
    "input_pats = D[:,:nobj+nrel]\n",
    "input_pats = torch.tensor(input_pats,dtype=torch.float)\n",
    "output_pats = D[:,nobj+nrel:]\n",
    "output_pats = torch.tensor(output_pats,dtype=torch.float)\n",
    "N = input_pats.shape[0] # number of training patterns\n",
    "\n",
    "\n",
    "\n",
    "input_v = input_pats[item_display_ind,:].numpy().astype('bool')\n",
    "output_v = output_pats[item_display_ind,:].numpy().astype('bool')\n",
    "print('Example input pattern:')\n",
    "print(input_v.astype('int'))\n",
    "print('Example output pattern:')\n",
    "print(output_v.astype('int'))\n",
    "print(\"\")\n",
    "print(\"Which encodes...\")\n",
    "print('Item ',end='')\n",
    "print(names_items[input_v[:nobj]])\n",
    "print('Relation ',end='')\n",
    "print(names_relations[input_v[nobj:]])\n",
    "print('Attributes ',end='')\n",
    "print(names_attributes[output_v])"
   ]
  },
  {
   "cell_type": "code",
   "execution_count": 256,
   "metadata": {},
   "outputs": [],
   "source": [
    "class Net(nn.Module):\n",
    "    def __init__(self, rep_size, hidden_size):\n",
    "        super(Net, self).__init__()\n",
    "        # Input\n",
    "        #  rep_size : number of hidden units in \"Representation Layer\"\n",
    "        #  hidden_Size : number of hidden units in \"Hidden Layer\"\n",
    "        #\n",
    "        # TODO : YOUR CODE GOES HERE\n",
    "        self.i2rep = nn.Linear(nobj,rep_size)\n",
    "        self.all2h = nn.Linear(rep_size+nrel,hidden_size)\n",
    "        self.h2o = nn.Linear(hidden_size,nattributes)\n",
    "        self.sigmoid = torch.sigmoid\n",
    "\n",
    "    def forward(self, x):\n",
    "        # Defines forward pass for the network on input patterns x\n",
    "        #\n",
    "        # Input can take these two forms:\n",
    "        #\n",
    "        #   x: [nobj+nrel 1D Tensor], which is a single input pattern as a 1D tensor\n",
    "        #      (containing both object and relation 1-hot identifier) (batch size is B=1)\n",
    "        #   OR\n",
    "        #   x : [B x (nobj+nrel) Tensor], which is a batch of B input patterns (one for each row)\n",
    "        #\n",
    "        # Output\n",
    "        #   output [B x nattribute Tensor], which is the output pattern for each input pattern B on the Attribute Layer\n",
    "        #   hidden [B x hidden_size Tensor], which are activations in the Hidden Layer\n",
    "        #   rep [B x rep_size Tensor], which are the activations in the Representation LAyer\n",
    "        x = x.view(-1,nobj+nrel) # reshape as size [B x (nobj+nrel) Tensor] if B=1\n",
    "        x_item = x[:,:nobj] # input to Item Layer [B x nobj Tensor]\n",
    "        x_rel = x[:,nobj:] # input to Relation Layer [B x nrel Tensor]\n",
    "        \n",
    "        rep = self.i2rep(x_item)\n",
    "        rep = relu(rep)\n",
    "        to_hidden = torch.cat((rep,x_rel),1)\n",
    "        hidden = self.all2h(to_hidden)\n",
    "        hidden = relu(hidden)\n",
    "        output = self.h2o(hidden)\n",
    "        output = self.sigmoid(output)\n",
    "        \n",
    "        return output, hidden, rep"
   ]
  },
  {
   "cell_type": "code",
   "execution_count": 257,
   "metadata": {},
   "outputs": [
    {
     "data": {
      "text/plain": [
       "<All keys matched successfully>"
      ]
     },
     "execution_count": 257,
     "metadata": {},
     "output_type": "execute_result"
    }
   ],
   "source": [
    "loaded_model = torch.load('trained_model.pt')\n",
    "\n",
    "mynet = Net(rep_size=loaded_model['model_state_dict']['i2rep.weight'].size()[0],\n",
    "            hidden_size=loaded_model['model_state_dict']['all2h.weight'].size()[0])\n",
    "\n",
    "mynet.load_state_dict(loaded_model['model_state_dict'])\n"
   ]
  },
  {
   "cell_type": "markdown",
   "metadata": {},
   "source": [
    "## Model Has been Loaded successfully, now evaluate model"
   ]
  },
  {
   "cell_type": "code",
   "execution_count": 283,
   "metadata": {},
   "outputs": [],
   "source": [
    "# This will iterate through each possible input pattern, predict outputs, and determine\n",
    "# if the output matches the expected output. If not, it prints the input pattern index\n",
    "\n",
    "# ***Should return nothing when ran.\n",
    "\n",
    "for i in range(input_pats.shape[0]) :\n",
    "    output = mynet(input_pats[i])[0][0].detach().numpy()\n",
    "    if np.dot(output_pats[i].numpy(),np.where(output>=.5,1,0)) != np.sum(output_pats[i].numpy()) :\n",
    "        print(i,' BAD')\n",
    "    if np.sum(np.where(output>=.5,1,0)) != np.sum(output_pats[i].numpy()) :\n",
    "        print(i,' BAD')\n",
    "        \n",
    "# Uses the fact that the sigmoid for multiclass will have to be >= .5 to be considered a positive result.\n",
    "# Measures the overlap between input and output, but also measures if there are extra labels considered positive."
   ]
  },
  {
   "cell_type": "code",
   "execution_count": null,
   "metadata": {},
   "outputs": [],
   "source": []
  }
 ],
 "metadata": {
  "kernelspec": {
   "display_name": "Python 3",
   "language": "python",
   "name": "python3"
  },
  "language_info": {
   "codemirror_mode": {
    "name": "ipython",
    "version": 3
   },
   "file_extension": ".py",
   "mimetype": "text/x-python",
   "name": "python",
   "nbconvert_exporter": "python",
   "pygments_lexer": "ipython3",
   "version": "3.6.8"
  }
 },
 "nbformat": 4,
 "nbformat_minor": 4
}
