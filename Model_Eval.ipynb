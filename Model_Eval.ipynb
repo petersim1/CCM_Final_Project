{
 "cells": [
  {
   "cell_type": "code",
   "execution_count": 1,
   "metadata": {},
   "outputs": [],
   "source": [
    "# Import libraries\n",
    "from __future__ import print_function\n",
    "import matplotlib\n",
    "%matplotlib inline\n",
    "import matplotlib.pyplot as plt\n",
    "import numpy as np\n",
    "import torch\n",
    "import torch.nn as nn\n",
    "from torch.nn.functional import sigmoid, relu\n",
    "from scipy.cluster.hierarchy import dendrogram, linkage\n",
    "import copy\n",
    "\n",
    "np.random.seed(2020)\n"
   ]
  },
  {
   "cell_type": "code",
   "execution_count": 2,
   "metadata": {},
   "outputs": [],
   "source": [
    "# Read in Data\n",
    "with open('data/sem_items_new.txt','r') as fid:\n",
    "    names_items = np.array([l.strip() for l in fid.readlines()])\n",
    "with open('data/sem_relations_new.txt','r') as fid:\n",
    "    names_relations = np.array([l.strip() for l in fid.readlines()])\n",
    "with open('data/sem_attributes_new.txt','r') as fid:\n",
    "    names_attributes = np.array([l.strip() for l in fid.readlines()])"
   ]
  },
  {
   "cell_type": "code",
   "execution_count": 3,
   "metadata": {},
   "outputs": [
    {
     "name": "stdout",
     "output_type": "stream",
     "text": [
      "List of items:\n",
      "Pine,Oak,Rose,Daisy,Robin,Canary,Sunfish,Salmon,Turtle,Crocodile\n",
      "\n",
      "List of relations:\n",
      "ISA,Is,Can,Has\n",
      "\n",
      "List of attributes:\n",
      "Living thing,Plant,Animal,Tree,Flower,Bird,Fish,Reptile,Pine,Oak,Rose,Daisy,Robin,Canary,Sunfish,Salmon,Turtle,Crocodile,Pretty,Big,Living,Green,Red,Yellow,Slow,Grow,Move,Swim,Fly,Sing,Skin,Roots,Leaves,Bark,Branch,Petals,Wings,Feathers,Gills,Scales,Backbone,Produce Eggs,Shell\n"
     ]
    }
   ],
   "source": [
    "nobj = len(names_items)\n",
    "nrel = len(names_relations)\n",
    "nattributes = len(names_attributes)\n",
    "print('List of items:')\n",
    "print(*names_items,sep=',')\n",
    "print(\"\\nList of relations:\")\n",
    "print(*names_relations,sep=',')\n",
    "print(\"\\nList of attributes:\")\n",
    "print(*names_attributes,sep=',')"
   ]
  },
  {
   "cell_type": "code",
   "execution_count": 4,
   "metadata": {},
   "outputs": [
    {
     "name": "stdout",
     "output_type": "stream",
     "text": [
      "Example input pattern:\n",
      "[0 0 0 0 0 0 0 0 1 0 0 0 0 1]\n",
      "Example output pattern:\n",
      "[0 0 0 0 0 0 0 0 0 0 0 0 0 0 0 0 0 0 0 0 0 0 0 0 0 0 0 0 0 0 1 0 0 0 0 0 0\n",
      " 0 0 0 1 0 1]\n",
      "\n",
      "Which encodes...\n",
      "Item ['Turtle']\n",
      "Relation ['Has']\n",
      "Attributes ['Skin' 'Backbone' 'Shell']\n"
     ]
    }
   ],
   "source": [
    "item_display_ind = 35 # can change, just represents index of input data to show as example.\n",
    "\n",
    "D = np.loadtxt('data/sem_data_new.txt')\n",
    "input_pats = D[:,:nobj+nrel]\n",
    "input_pats = torch.tensor(input_pats,dtype=torch.float)\n",
    "output_pats = D[:,nobj+nrel:]\n",
    "output_pats = torch.tensor(output_pats,dtype=torch.float)\n",
    "N = input_pats.shape[0] # number of training patterns\n",
    "\n",
    "\n",
    "\n",
    "input_v = input_pats[item_display_ind,:].numpy().astype('bool')\n",
    "output_v = output_pats[item_display_ind,:].numpy().astype('bool')\n",
    "print('Example input pattern:')\n",
    "print(input_v.astype('int'))\n",
    "print('Example output pattern:')\n",
    "print(output_v.astype('int'))\n",
    "print(\"\")\n",
    "print(\"Which encodes...\")\n",
    "print('Item ',end='')\n",
    "print(names_items[input_v[:nobj]])\n",
    "print('Relation ',end='')\n",
    "print(names_relations[input_v[nobj:]])\n",
    "print('Attributes ',end='')\n",
    "print(names_attributes[output_v])"
   ]
  },
  {
   "cell_type": "code",
   "execution_count": 7,
   "metadata": {},
   "outputs": [],
   "source": [
    "class Net(nn.Module):\n",
    "    def __init__(self, n_items, n_relations, n_attributes, rep_layer_size, hidden_layer_size):\n",
    "        super(Net, self).__init__()\n",
    "        # Input\n",
    "        #  rep_size : number of hidden units in \"Representation Layer\"\n",
    "        #  hidden_Size : number of hidden units in \"Hidden Layer\"\n",
    "        #\n",
    "        self.n_items = n_items # input to rep\n",
    "        self.n_relations = n_relations # input to hidden\n",
    "        self.n_attributes = n_attributes # output        \n",
    "        \n",
    "        self.i2rep = nn.Linear(self.n_items, rep_layer_size,bias=False)\n",
    "        self.all2h = nn.Linear(rep_layer_size+self.n_relations, hidden_layer_size,bias=False)\n",
    "        self.h2o   = nn.Linear(hidden_layer_size, self.n_attributes,bias=False)\n",
    "        \n",
    "        # initialize untrainable bias.\n",
    "        #self.i2rep.bias = nn.Parameter(torch.ones(1,self.n_items),requires_grad=False)\n",
    "        #self.all2h.bias = nn.Parameter(torch.ones(1,hidden_layer_size),requires_grad=False)\n",
    "        #self.h2o.bias = nn.Parameter(torch.ones(1,self.n_attributes),requires_grad=False)\n",
    "        \n",
    "        # initialize weights.\n",
    "        nn.init.uniform_(self.i2rep.weight,-1.643,1.643)\n",
    "        nn.init.uniform_(self.all2h.weight,-1.643,1.643)\n",
    "        nn.init.uniform_(self.h2o.weight,-1.643,1.643)\n",
    "                \n",
    "    def forward(self, x):\n",
    "        # Defines forward pass for the network on input patterns x\n",
    "        #\n",
    "        # Input can take these two forms:\n",
    "        #\n",
    "        #   x: [nobj+nrel 1D Tensor], which is a single input pattern as a 1D tensor\n",
    "        #      (containing both object and relation 1-hot identifier) (batch size is B=1)\n",
    "        #   OR\n",
    "        #   x : [B x (nobj+nrel) Tensor], which is a batch of B input patterns (one for each row)\n",
    "        #\n",
    "        # Output\n",
    "        #   output [B x nattribute Tensor], which is the output pattern for each input pattern B on the Attribute Layer\n",
    "        #   hidden [B x hidden_size Tensor], which are activations in the Hidden Layer\n",
    "        #   rep [B x rep_size Tensor], which are the activations in the Representation LAyer\n",
    "        x      = x.view(-1, self.n_items+self.n_relations) # reshape as size [B x (nobj+nrel) Tensor] if B=1\n",
    "        x_item = x[:,:self.n_items] # input to Item Layer [B x nobj Tensor]\n",
    "        x_rel  = x[:,self.n_items:] # input to Relation Layer [B x nrel Tensor]\n",
    "\n",
    "        rep             = relu(self.i2rep(x_item))\n",
    "        input_to_hidden = torch.cat((rep,x_rel), dim=1)\n",
    "        hidden          = relu(self.all2h(input_to_hidden))\n",
    "        output          = torch.sigmoid(self.h2o(hidden))\n",
    "                \n",
    "        return output, hidden, rep\n",
    "    "
   ]
  },
  {
   "cell_type": "code",
   "execution_count": 10,
   "metadata": {},
   "outputs": [
    {
     "data": {
      "text/plain": [
       "Net(\n",
       "  (i2rep): Linear(in_features=10, out_features=12, bias=False)\n",
       "  (all2h): Linear(in_features=16, out_features=16, bias=False)\n",
       "  (h2o): Linear(in_features=16, out_features=43, bias=False)\n",
       ")"
      ]
     },
     "execution_count": 10,
     "metadata": {},
     "output_type": "execute_result"
    }
   ],
   "source": [
    "loaded_model = torch.load('trained_model.pt')\n",
    "\n",
    "mynet = Net(nobj,nrel, nattributes,rep_layer_size=loaded_model['model_state_dict']['i2rep.weight'].size()[0],\n",
    "            hidden_layer_size=loaded_model['model_state_dict']['all2h.weight'].size()[0])\n",
    "\n",
    "mynet.load_state_dict(loaded_model['model_state_dict'])\n",
    "mynet.eval()"
   ]
  },
  {
   "cell_type": "markdown",
   "metadata": {},
   "source": [
    "## Model Has been Loaded successfully, now evaluate model"
   ]
  },
  {
   "cell_type": "markdown",
   "metadata": {},
   "source": [
    "### Need to bucket attributes into \"general\" , \"intermediate\", and \"specific\""
   ]
  },
  {
   "cell_type": "code",
   "execution_count": 15,
   "metadata": {},
   "outputs": [],
   "source": [
    "general = names_attributes[1:3]\n",
    "intermediate = names_attributes[3:8]\n",
    "specific = names_attributes[8:]"
   ]
  },
  {
   "cell_type": "code",
   "execution_count": 21,
   "metadata": {},
   "outputs": [
    {
     "data": {
      "text/plain": [
       "(array(['Pine', 'Oak', 'Rose', 'Daisy', 'Robin', 'Canary', 'Sunfish',\n",
       "        'Salmon', 'Turtle', 'Crocodile'], dtype='<U9'),\n",
       " array(['ISA', 'Is', 'Can', 'Has'], dtype='<U3'))"
      ]
     },
     "execution_count": 21,
     "metadata": {},
     "output_type": "execute_result"
    }
   ],
   "source": [
    "names_items , names_relations ,"
   ]
  },
  {
   "cell_type": "code",
   "execution_count": 52,
   "metadata": {},
   "outputs": [
    {
     "data": {
      "text/plain": [
       "array(['Living thing', 'Plant', 'Tree', 'Oak'], dtype='<U12')"
      ]
     },
     "execution_count": 52,
     "metadata": {},
     "output_type": "execute_result"
    }
   ],
   "source": [
    "names_attributes[output_pats[4].detach().numpy().astype('bool')]"
   ]
  },
  {
   "cell_type": "code",
   "execution_count": 53,
   "metadata": {},
   "outputs": [
    {
     "data": {
      "text/plain": [
       "tensor([0.9979, 0.9975, 0.9793, 0.7993], grad_fn=<IndexBackward>)"
      ]
     },
     "execution_count": 53,
     "metadata": {},
     "output_type": "execute_result"
    }
   ],
   "source": [
    "mynet(input_pats[4])[0][0][output_pats[4].detach().numpy().astype('bool')]"
   ]
  },
  {
   "cell_type": "code",
   "execution_count": 64,
   "metadata": {},
   "outputs": [
    {
     "data": {
      "text/plain": [
       "array([9.9786419e-01, 9.9748790e-01, 2.0416502e-02, 9.7934097e-01,\n",
       "       5.5161003e-02, 8.2033694e-05, 3.9884853e-04, 1.8637685e-02,\n",
       "       1.0024270e-03, 7.9934675e-01, 6.4967908e-02, 4.0128611e-02,\n",
       "       1.1044208e-06, 6.8393047e-04, 1.1425503e-03, 3.6174584e-05,\n",
       "       2.1379501e-02, 1.6392650e-02, 1.3037412e-04, 3.8772307e-02,\n",
       "       2.1173370e-03, 1.1748148e-04, 1.8521973e-04, 3.6495825e-07,\n",
       "       5.3091976e-03, 1.4275529e-03, 1.0469149e-06, 4.8786342e-07,\n",
       "       4.5788897e-07, 7.3799088e-06, 1.8502509e-07, 4.9373265e-02,\n",
       "       6.3218218e-03, 4.8328720e-02, 5.0448000e-02, 1.7293757e-04,\n",
       "       1.6772566e-06, 2.1249341e-06, 3.2840217e-07, 1.6285500e-07,\n",
       "       7.3970215e-05, 8.9267121e-07, 9.2069205e-04], dtype=float32)"
      ]
     },
     "execution_count": 64,
     "metadata": {},
     "output_type": "execute_result"
    }
   ],
   "source": [
    "mynet(input_pats[4])[0].detach().numpy()[0]"
   ]
  },
  {
   "cell_type": "code",
   "execution_count": 54,
   "metadata": {},
   "outputs": [],
   "source": [
    "relation_eval = 'ISA'\n",
    "ind_relation = np.where(names_relations == relation_eval)[0][0]\n",
    "\n",
    "patterns_eval = input_pats[ind_relation::len(names_relations)]\n",
    "patterns_truth = output_pats[ind_relation::len(names_relations)]"
   ]
  },
  {
   "cell_type": "code",
   "execution_count": 75,
   "metadata": {},
   "outputs": [
    {
     "data": {
      "text/plain": [
       "[(0, tensor([1., 0., 0., 0., 0., 0., 0., 0., 0., 0., 1., 0., 0., 0.])),\n",
       " (1, tensor([0., 1., 0., 0., 0., 0., 0., 0., 0., 0., 1., 0., 0., 0.])),\n",
       " (2, tensor([0., 0., 1., 0., 0., 0., 0., 0., 0., 0., 1., 0., 0., 0.])),\n",
       " (3, tensor([0., 0., 0., 1., 0., 0., 0., 0., 0., 0., 1., 0., 0., 0.])),\n",
       " (4, tensor([0., 0., 0., 0., 1., 0., 0., 0., 0., 0., 1., 0., 0., 0.])),\n",
       " (5, tensor([0., 0., 0., 0., 0., 1., 0., 0., 0., 0., 1., 0., 0., 0.])),\n",
       " (6, tensor([0., 0., 0., 0., 0., 0., 1., 0., 0., 0., 1., 0., 0., 0.])),\n",
       " (7, tensor([0., 0., 0., 0., 0., 0., 0., 1., 0., 0., 1., 0., 0., 0.])),\n",
       " (8, tensor([0., 0., 0., 0., 0., 0., 0., 0., 1., 0., 1., 0., 0., 0.])),\n",
       " (9, tensor([0., 0., 0., 0., 0., 0., 0., 0., 0., 1., 1., 0., 0., 0.]))]"
      ]
     },
     "execution_count": 75,
     "metadata": {},
     "output_type": "execute_result"
    }
   ],
   "source": [
    "list(enumerate(patterns_eval))"
   ]
  },
  {
   "cell_type": "code",
   "execution_count": 81,
   "metadata": {},
   "outputs": [
    {
     "data": {
      "text/plain": [
       "array(['Living thing', 'Animal', 'Reptile', 'Crocodile'], dtype='<U12')"
      ]
     },
     "execution_count": 81,
     "metadata": {},
     "output_type": "execute_result"
    }
   ],
   "source": [
    "names_eval"
   ]
  },
  {
   "cell_type": "code",
   "execution_count": 236,
   "metadata": {},
   "outputs": [],
   "source": [
    "def apply_noise(net,scale) :\n",
    "    \n",
    "    model = copy.deepcopy(net) #otherwise actual model might change in place.\n",
    "    model.eval()\n",
    "    new_weights = model.state_dict()\n",
    "\n",
    "    dim2,dim3 = new_weights['i2rep.weight'].size()\n",
    "    \n",
    "    # add mutlivariate random matrix element-wise to weights.\n",
    "    noisy_add = np.random.normal(loc=0,scale=scale,size=(dim2,dim3))\n",
    "    # add single random scalar to all weights\n",
    "    #noisy_add = np.random.normal(loc=0,scale=scale) \n",
    "    new_weights['i2rep.weight'] += noisy_add\n",
    "    model.load_state_dict(new_weights)\n",
    "    \n",
    "    return model"
   ]
  },
  {
   "cell_type": "code",
   "execution_count": 237,
   "metadata": {},
   "outputs": [],
   "source": [
    "def Categorize_Outputs(net,general_names,intermediate_names,specific_names,relation_eval='ISA') :\n",
    "    \n",
    "    ind_relation = np.where(names_relations == relation_eval)[0][0]\n",
    "\n",
    "    patterns_eval = input_pats[ind_relation::len(names_relations)]\n",
    "    patterns_truth = output_pats[ind_relation::len(names_relations)]\n",
    "    general_out = []\n",
    "    intermediate_out = []\n",
    "    specific_out = []\n",
    "\n",
    "    for i,pattern in enumerate(patterns_eval) :\n",
    "        true_output_bool = patterns_truth[i].detach().numpy().astype('bool')\n",
    "        names_eval = names_attributes[true_output_bool]\n",
    "        mod_output = net(pattern)[0].detach().numpy()[0][true_output_bool]  \n",
    "        for j,name in enumerate(names_eval) :\n",
    "            if name in general_names :\n",
    "                general_out.append(mod_output[j])\n",
    "            if name in intermediate_names :\n",
    "                intermediate_out.append(mod_output[j])\n",
    "            if name in specific_names :\n",
    "                specific_out.append(mod_output[j])\n",
    "                \n",
    "    return np.mean(general_out),np.mean(intermediate_out),np.mean(specific_out)"
   ]
  },
  {
   "cell_type": "code",
   "execution_count": 238,
   "metadata": {},
   "outputs": [],
   "source": [
    "def Noise_Degredation(net,scales,num_run,fnc_noise,fnc_categorize,general_names,\n",
    "                      intermediate_names,specific_names,relation_eval='ISA') :\n",
    "    \n",
    "    noise_stats = {item:{scale:[] for scale in scales} for item in ['general','intermediate','specific']}\n",
    "\n",
    "    for scale in scales :\n",
    "        for _ in range(num_run) :\n",
    "            model = fnc_noise(net,scale)\n",
    "            g_out,int_out,s_out = fnc_categorize(model,general_names,intermediate_names,\n",
    "                                                 specific_names,relation_eval)\n",
    "            \n",
    "            noise_stats['general'][scale].append(g_out)\n",
    "            noise_stats['intermediate'][scale].append(int_out)\n",
    "            noise_stats['specific'][scale].append(s_out)\n",
    "            \n",
    "    return noise_stats"
   ]
  },
  {
   "cell_type": "code",
   "execution_count": 245,
   "metadata": {},
   "outputs": [],
   "source": [
    "scales_use = np.linspace(0,2,10)\n",
    "test = Noise_Degredation(mynet,scales_use,50,apply_noise,Categorize_Outputs,general,intermediate,specific,'ISA')"
   ]
  },
  {
   "cell_type": "code",
   "execution_count": 246,
   "metadata": {},
   "outputs": [],
   "source": [
    "test_formatted = {} \n",
    "for k,v in test.items() :\n",
    "    test_formatted[k] = {}\n",
    "    for scale,vals in v.items() :\n",
    "        test_formatted[k][scale] = {}\n",
    "        test_formatted[k][scale]['mean'] = np.mean(vals,axis=0)\n",
    "        test_formatted[k][scale]['std'] = np.std(vals,axis=0)\n"
   ]
  },
  {
   "cell_type": "code",
   "execution_count": 247,
   "metadata": {},
   "outputs": [
    {
     "data": {
      "image/png": "[encoded data removed]",
      "text/plain": [
       "<Figure size 720x360 with 1 Axes>"
      ]
     },
     "metadata": {
      "needs_background": "light"
     },
     "output_type": "display_data"
    }
   ],
   "source": [
    "plt.figure(figsize=(10,5))\n",
    "for k,v in test_formatted.items() :\n",
    "    to_plot = [v[scale]['mean'] for scale in v.keys()]\n",
    "    to_plot_error = [v[scale]['std'] for scale in v.keys()]\n",
    "    plt.errorbar(scales_use,to_plot,yerr=to_plot_error,label=k,linestye=None,marker='o',capsize=3)\n",
    "    #plt.plot(range(10),to_plot,label=k)\n",
    "plt.hlines(y=.5,xmin=0,xmax=max(scales_use),linestyle='--')\n",
    "plt.legend()\n",
    "plt.xticks(scales_use)\n",
    "plt.title('Degradation of Item Specification')\n",
    "plt.xlabel('Noise Level')\n",
    "plt.ylabel('Activation')\n",
    "plt.show()"
   ]
  },
  {
   "cell_type": "code",
   "execution_count": 49,
   "metadata": {},
   "outputs": [
    {
     "name": "stdout",
     "output_type": "stream",
     "text": [
      "0  BAD\n",
      "1  BAD\n"
     ]
    }
   ],
   "source": [
    "# This will iterate through each possible input pattern, predict outputs, and determine\n",
    "# if the output matches the expected output. If not, it prints the input pattern index\n",
    "\n",
    "# ***Should return nothing when ran, unless using MSELoss (which it is)\n",
    "\n",
    "for i in range(input_pats.shape[0]) :\n",
    "    output = mynet(input_pats[i])[0][0].detach().numpy()\n",
    "    if np.dot(output_pats[i].numpy(),np.where(output>=.5,1,0)) != np.sum(output_pats[i].numpy()) :\n",
    "        print(i,' BAD')\n",
    "    else :\n",
    "        if np.sum(np.where(output>=.5,1,0)) != np.sum(output_pats[i].numpy()) :\n",
    "            print(i,' BAD (extra attributes predicted)')\n",
    "        \n",
    "# Uses the fact that the sigmoid for multiclass will have to be >= .5 to be considered a positive result.\n",
    "# Measures the overlap between input and output, but also measures if there are extra labels considered positive."
   ]
  },
  {
   "cell_type": "code",
   "execution_count": null,
   "metadata": {},
   "outputs": [],
   "source": []
  }
 ],
 "metadata": {
  "kernelspec": {
   "display_name": "Python 3",
   "language": "python",
   "name": "python3"
  },
  "language_info": {
   "codemirror_mode": {
    "name": "ipython",
    "version": 3
   },
   "file_extension": ".py",
   "mimetype": "text/x-python",
   "name": "python",
   "nbconvert_exporter": "python",
   "pygments_lexer": "ipython3",
   "version": "3.6.8"
  }
 },
 "nbformat": 4,
 "nbformat_minor": 4
}
